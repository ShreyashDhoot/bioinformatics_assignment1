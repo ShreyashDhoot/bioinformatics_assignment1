{
 "cells": [
  {
   "cell_type": "code",
   "execution_count": 6,
   "id": "7ece22f4-ece9-4620-a3fd-bb4013776012",
   "metadata": {},
   "outputs": [
    {
     "name": "stdout",
     "output_type": "stream",
     "text": [
      "[main (root-commit) 71a6479] Initial commit: Created notebook\n",
      " 1 file changed, 166 insertions(+)\n",
      " create mode 100644 assignment_1.ipynb\n"
     ]
    }
   ],
   "source": [
    "!git commit -m \"Initial commit: Created notebook\""
   ]
  },
  {
   "cell_type": "code",
   "execution_count": 8,
   "id": "8ba9b545-e2d6-4e76-9adf-95040d532a9a",
   "metadata": {},
   "outputs": [],
   "source": [
    "class DNA:\n",
    "    def __init__(self, sequence):\n",
    "        \"\"\"\n",
    "        converts the sequence to upper case and check if the sequence is valid \n",
    "        \"\"\"\n",
    "        # convert the sequence to UPPER CASE\n",
    "        self.sequence = sequence.upper()\n",
    "        # valid nucleotides \n",
    "        self.valid_nucleotides = ['A', 'T', 'G', 'C']\n",
    "        self.validate_sequence()\n",
    "\n",
    "    def validate_sequence(self):\n",
    "        \"\"\"\n",
    "        checks the whole sequence if the sequence is not valid prints error message \n",
    "        \"\"\"\n",
    "        for base in self.sequence:\n",
    "            if base not in self.valid_nucleotides:\n",
    "                print(\"Error: Invalid nucleotide found:\", base)\n",
    "                print(\"DNA sequence must only have A, T, G, or C.\")\n",
    "                raise ValueError(\"Invalid DNA sequence!\")  # just stop everything\n",
    "\n",
    "    def get_length(self):\n",
    "        \"\"\"\n",
    "        returns the length of the sequence \n",
    "        \"\"\"\n",
    "        return len(self.sequence)\n",
    "\n",
    "    def count_nucleotides(self):\n",
    "        \"\"\"\n",
    "        counts the number of A,T,G and C in the sequence and returns their count as a dict \n",
    "        \"\"\"\n",
    "        counts = {'A': 0, 'T': 0, 'G': 0, 'C': 0}\n",
    "\n",
    "        for base in self.sequence:\n",
    "            if base == 'A':\n",
    "                counts['A'] += 1\n",
    "            elif base == 'T':\n",
    "                counts['T'] += 1\n",
    "            elif base == 'G':\n",
    "                counts['G'] += 1\n",
    "            elif base == 'C':\n",
    "                counts['C'] += 1\n",
    "\n",
    "        return counts\n",
    "\n",
    "    def get_statistics(self):\n",
    "        \"\"\"\n",
    "        returns length and count \n",
    "        \"\"\"\n",
    "        length = self.get_length()\n",
    "        counts = self.count_nucleotides()\n",
    "\n",
    "        if length == 0:\n",
    "            gc_content = 0\n",
    "        else:\n",
    "            gc_content = ((counts['G'] + counts['C']) / length) * 100\n",
    "\n",
    "        stats = {\n",
    "            'Length': length,\n",
    "            'GC_Content(%)': round(gc_content, 2),\n",
    "            'Counts': counts\n",
    "        }\n",
    "\n",
    "        return stats\n",
    "\n",
    "    def __str__(self):\n",
    "        \"\"\"\n",
    "        returns string \n",
    "        \"\"\"\n",
    "        return \"DNA Sequence: \" + self.sequence + \" (Length: \" + str(self.get_length()) + \")\"\n"
   ]
  },
  {
   "cell_type": "code",
   "execution_count": 10,
   "id": "67a55617-fcd7-4958-ae94-f121607f1342",
   "metadata": {},
   "outputs": [
    {
     "name": "stdout",
     "output_type": "stream",
     "text": [
      "=== Test 1: Valid sequence ===\n",
      "DNA Sequence: ATGCGTTA (Length: 8)\n",
      "Length: 8\n",
      "Counts: {'A': 2, 'T': 3, 'G': 2, 'C': 1}\n",
      "Statistics: {'Length': 8, 'GC_Content(%)': 37.5, 'Counts': {'A': 2, 'T': 3, 'G': 2, 'C': 1}}\n",
      "\n",
      "=== Test 2: Lowercase sequence ===\n",
      "DNA Sequence: ATGCCGAT (Length: 8)\n",
      "Statistics: {'Length': 8, 'GC_Content(%)': 50.0, 'Counts': {'A': 2, 'T': 2, 'G': 2, 'C': 2}}\n",
      "\n",
      "=== Test 3: Invalid character ===\n",
      "Error: Invalid nucleotide found: B\n",
      "DNA sequence must only have A, T, G, or C.\n",
      "Caught error: Invalid DNA sequence!\n"
     ]
    }
   ],
   "source": [
    "# Testing the DNA class (basic style)\n",
    "\n",
    "try:\n",
    "    print(\"=== Test 1: Valid sequence ===\")\n",
    "    dna1 = DNA(\"ATGCGTTA\")\n",
    "    print(dna1)\n",
    "    print(\"Length:\", dna1.get_length())\n",
    "    print(\"Counts:\", dna1.count_nucleotides())\n",
    "    print(\"Statistics:\", dna1.get_statistics())\n",
    "\n",
    "    print(\"\\n=== Test 2: Lowercase sequence ===\")\n",
    "    dna2 = DNA(\"atgccgat\")\n",
    "    print(dna2)\n",
    "    print(\"Statistics:\", dna2.get_statistics())\n",
    "\n",
    "    print(\"\\n=== Test 3: Invalid character ===\")\n",
    "    dna3 = DNA(\"ATGBXTA\")  # should trigger ValueError\n",
    "except ValueError as e:\n",
    "    print(\"Caught error:\", e)"
   ]
  },
  {
   "cell_type": "code",
   "execution_count": 14,
   "id": "9242f0a7-14aa-4ff2-9d0f-c6bdba5863c7",
   "metadata": {},
   "outputs": [
    {
     "name": "stdout",
     "output_type": "stream",
     "text": [
      "[main a289dc1] Completed part A question 1\n",
      " 1 file changed, 89 insertions(+), 72 deletions(-)\n"
     ]
    },
    {
     "name": "stderr",
     "output_type": "stream",
     "text": [
      "warning: in the working copy of 'assignment_1.ipynb', LF will be replaced by CRLF the next time Git touches it\n"
     ]
    }
   ],
   "source": [
    "!git commit -am \"Completed part A question 1\""
   ]
  },
  {
   "cell_type": "code",
   "execution_count": 52,
   "id": "9b47d4cb-1e47-4759-a4b0-10e9aafe7dcf",
   "metadata": {},
   "outputs": [],
   "source": [
    "\n",
    "def count_individual_nucleotides(dna_obj):\n",
    "    \"\"\"\n",
    "    Use the count_nucleotides() method of DNA class\n",
    "    and return the dictionary of counts.\n",
    "    \"\"\"\n",
    "    counts = dna_obj.count_nucleotides()\n",
    "    return counts\n",
    "\n",
    "\n",
    "def calculate_nucleotide_frequencies(dna_obj):\n",
    "    \"\"\"\n",
    "    Calculate of each nucleotide in the sequence.\n",
    "    dna_obj - object \n",
    "    freq - contains freq of all necleotides \n",
    "    \"\"\"\n",
    "    counts = dna_obj.count_nucleotides()\n",
    "    length = dna_obj.get_length()\n",
    "\n",
    "    if length == 0:\n",
    "        return {\"A\": 0, \"T\": 0, \"G\": 0, \"C\": 0}\n",
    "\n",
    "    freq = {}\n",
    "    for base in counts:\n",
    "        freq[base] = round((counts[base] / length) * 100, 2)\n",
    "    return freq\n",
    "\n",
    "\n",
    "def generate_analysis_report(dna_obj):\n",
    "    \"\"\"\n",
    "    make report using all the parameters we calculated\n",
    "    \"\"\"\n",
    "    print(\"=== DNA Nucleotide Analysis Report ===\")\n",
    "    print(\"Sequence:\", dna_obj.sequence)\n",
    "    print(\"Length:\", dna_obj.get_length())\n",
    "\n",
    "    counts = count_individual_nucleotides(dna_obj)\n",
    "    freqs = calculate_nucleotide_frequencies(dna_obj)\n",
    "\n",
    "    print(\"\\nNucleotide Counts:\")\n",
    "    for base in counts:\n",
    "        print(base, \":\", counts[base])\n",
    "\n",
    "    print(\"\\nNucleotide Frequencies (%):\")\n",
    "    for base in freqs:\n",
    "        print(base, \":\", freqs[base])\n",
    "        \n",
    "    print(\"xxxxxxxxxxxxxxxxxxxxxxxxxxxxxxxxxxxxxxxxxxxxxxxxxx\")\n",
    "\n",
    "\n",
    "def compare_two_sequences(dna1, dna2):\n",
    "    \"\"\"\n",
    "    Compare two DNA sequences by their nucleotide composition.\n",
    "    \"\"\"\n",
    "    counts1 = dna1.count_nucleotides()\n",
    "    counts2 = dna2.count_nucleotides()\n",
    "\n",
    "    print(\"=== Comparison of Two DNA Sequences ===\")\n",
    "    print(\"Seq1:\", dna1.sequence)\n",
    "    print(\"Seq2:\", dna2.sequence)\n",
    "    print(\"*******************************************\")\n",
    "\n",
    "    for base in ['A', 'T', 'G', 'C']:\n",
    "        if counts1[base] > counts2[base]:\n",
    "            print(f\"Seq1 has more {base} ({counts1[base]} vs {counts2[base]})\")\n",
    "        elif counts1[base] < counts2[base]:\n",
    "            print(f\"Seq2 has more {base} ({counts2[base]} vs {counts1[base]})\")\n",
    "        else:\n",
    "            print(f\"Both have equal {base} ({counts1[base]})\")\n",
    "    print(\"xxxxxxxxxxxxxxxxxxxxxxxxxxxxxxxxxxxxxxxxxxxxxxxxx\")\n"
   ]
  },
  {
   "cell_type": "code",
   "execution_count": 54,
   "id": "2c38a177-c534-46a7-b05d-c035f5bd415c",
   "metadata": {},
   "outputs": [
    {
     "name": "stdout",
     "output_type": "stream",
     "text": [
      "Single sequence analysis\n",
      "=== DNA Nucleotide Analysis Report ===\n",
      "Sequence: ATGCGTTA\n",
      "Length: 8\n",
      "\n",
      "Nucleotide Counts:\n",
      "A : 2\n",
      "T : 3\n",
      "G : 2\n",
      "C : 1\n",
      "\n",
      "Nucleotide Frequencies (%):\n",
      "A : 25.0\n",
      "T : 37.5\n",
      "G : 25.0\n",
      "C : 12.5\n",
      "xxxxxxxxxxxxxxxxxxxxxxxxxxxxxxxxxxxxxxxxxxxxxxxxxx\n",
      "Compare two sequences\n",
      "=== Comparison of Two DNA Sequences ===\n",
      "Seq1: ATGCGTTA\n",
      "Seq2: AATTGGCC\n",
      "*******************************************\n",
      "Both have equal A (2)\n",
      "Seq1 has more T (3 vs 2)\n",
      "Both have equal G (2)\n",
      "Seq2 has more C (2 vs 1)\n",
      "xxxxxxxxxxxxxxxxxxxxxxxxxxxxxxxxxxxxxxxxxxxxxxxxx\n"
     ]
    }
   ],
   "source": [
    "print(\"Single sequence analysis\")\n",
    "dna1 = DNA(\"ATGCGTTA\")\n",
    "generate_analysis_report(dna1)\n",
    "\n",
    "print(\"Compare two sequences\")\n",
    "dna2 = DNA(\"AATTGGCC\")\n",
    "compare_two_sequences(dna1, dna2)"
   ]
  },
  {
   "cell_type": "code",
   "execution_count": 50,
   "id": "260903f3-6bfd-475b-a03a-3dc9bd94c8b5",
   "metadata": {},
   "outputs": [
    {
     "name": "stdout",
     "output_type": "stream",
     "text": [
      "[main 41cc2bc] Completed part A question 2\n",
      " 1 file changed, 160 insertions(+), 2 deletions(-)\n"
     ]
    },
    {
     "name": "stderr",
     "output_type": "stream",
     "text": [
      "warning: in the working copy of 'assignment_1.ipynb', LF will be replaced by CRLF the next time Git touches it\n"
     ]
    }
   ],
   "source": [
    "!git commit -am \"Completed part A question 2\""
   ]
  },
  {
   "cell_type": "code",
   "execution_count": 58,
   "id": "35fcce2f-3865-4a9e-8fdf-5c531f1edfdd",
   "metadata": {},
   "outputs": [],
   "source": [
    "\n",
    "def convert_to_upper(sequence):\n",
    "    \"\"\"Convert sequence to uppercase \"\"\"\n",
    "    seq_upper = \"\"\n",
    "    for base in sequence:\n",
    "        seq_upper += base.upper()\n",
    "    return seq_upper\n",
    "\n",
    "\n",
    "def remove_non_nucleotides(sequence):\n",
    "    \"\"\"Remove any character that is not A, T, G, or C.\"\"\"\n",
    "    valid = ['A', 'T', 'G', 'C','a','t','g','c']\n",
    "    clean_seq = \"\"\n",
    "    for base in sequence:\n",
    "        base = base.upper()\n",
    "        if base in valid:\n",
    "            clean_seq += base\n",
    "    return clean_seq\n",
    "\n",
    "\n",
    "def split_into_codons(sequence):\n",
    "    \"\"\"Split the sequence into groups of 3 bases (codons).\"\"\"\n",
    "    codons = []\n",
    "    for i in range(0, len(sequence), 3):\n",
    "        codons.append(sequence[i:i+3])\n",
    "    return codons\n",
    "\n",
    "\n",
    "def merge_fragments(fragments):\n",
    "    \"\"\"Join multiple DNA fragments into one long sequence.\"\"\"\n",
    "    merged = \"\"\n",
    "    for frag in fragments:\n",
    "        merged += frag\n",
    "    return merged\n"
   ]
  },
  {
   "cell_type": "code",
   "execution_count": 60,
   "id": "f33b4862-8aaf-4c77-9914-463593a770ae",
   "metadata": {},
   "outputs": [
    {
     "name": "stdout",
     "output_type": "stream",
     "text": [
      "Original sequence: atGc gT@aC12\n",
      "Uppercase: ATGC GT@AC12\n",
      "After removing invalid: ATGCGTAC\n",
      "Codons: ['ATG', 'CGT', 'AC']\n",
      "Merged fragments: ATGCGTACGGA\n"
     ]
    }
   ],
   "source": [
    "raw_seq = \"atGc gT@aC12\"\n",
    "print(\"Original sequence:\", raw_seq)\n",
    "#converting to upper case \n",
    "upper_seq = convert_to_upper(raw_seq)\n",
    "print(\"Uppercase:\", upper_seq)\n",
    "#removing non nucleotides\n",
    "#can use convert_to_upper and remove_non_nucletides indifferent of order\n",
    "clean_seq = remove_non_nucleotides(upper_seq)\n",
    "print(\"After removing invalid:\", clean_seq)\n",
    "#split into codons \n",
    "codons = split_into_codons(clean_seq)\n",
    "print(\"Codons:\", codons)\n",
    "#merging fragmnets \n",
    "merged = merge_fragments([\"ATGCG\", \"TAC\", \"GGA\"])\n",
    "print(\"Merged fragments:\", merged)\n"
   ]
  },
  {
   "cell_type": "code",
   "execution_count": 62,
   "id": "a8101b63-eb40-4955-b0d2-685a372074a3",
   "metadata": {},
   "outputs": [
    {
     "name": "stdout",
     "output_type": "stream",
     "text": [
      "[main a1376db] Completed part A question 3\n",
      " 1 file changed, 89 insertions(+), 10 deletions(-)\n"
     ]
    },
    {
     "name": "stderr",
     "output_type": "stream",
     "text": [
      "warning: in the working copy of 'assignment_1.ipynb', LF will be replaced by CRLF the next time Git touches it\n"
     ]
    }
   ],
   "source": [
    "!git commit -am \"Completed part A question 3\""
   ]
  },
  {
   "cell_type": "code",
   "execution_count": 66,
   "id": "33e61ecb-c052-42ce-9a35-7d659d3c2ac5",
   "metadata": {},
   "outputs": [],
   "source": [
    "class TranscriptionSystem:\n",
    "    def __init__(self, sequences, strand_type=\"coding\"):\n",
    "        \"\"\"\n",
    "        Initialize with list of DNA sequences and strand type (coding/template).\n",
    "        \"\"\"\n",
    "        self.sequences = sequences\n",
    "        self.strand_type = strand_type.lower()\n",
    "        self.valid_bases = ['A', 'T', 'G', 'C']\n",
    "\n",
    "    def validate_sequence(self, seq):\n",
    "        \"\"\"Check if the DNA sequence has only A, T, G, C.\"\"\"\n",
    "        for base in seq:\n",
    "            if base.upper() not in self.valid_bases:\n",
    "                return False\n",
    "        return True\n",
    "\n",
    "    def transcribe_one(self, seq):\n",
    "        \"\"\"Transcribe a single sequence depending on strand type.\"\"\"\n",
    "        seq = seq.upper()\n",
    "\n",
    "        if not self.validate_sequence(seq):\n",
    "            return \"Invalid sequence\"\n",
    "\n",
    "        # If strand is coding: replace T -> U\n",
    "        if self.strand_type == \"coding\":\n",
    "            return seq.replace('T', 'U')\n",
    "\n",
    "        # If strand is template: use complement rule\n",
    "        elif self.strand_type == \"template\":\n",
    "            complement = {'A': 'U', 'T': 'A', 'G': 'C', 'C': 'G'}\n",
    "            rna = \"\"\n",
    "            for base in seq:\n",
    "                rna += complement[base]\n",
    "            return rna\n",
    "\n",
    "        else:\n",
    "            return \"Invalid strand type! Use 'coding' or 'template'.\"\n",
    "\n",
    "    def batch_transcribe(self):\n",
    "        \"\"\"Transcribe all sequences in the list.\"\"\"\n",
    "        rna_results = []\n",
    "        for seq in self.sequences:\n",
    "            rna = self.transcribe_one(seq)\n",
    "            rna_results.append(rna)\n",
    "        return rna_results"
   ]
  },
  {
   "cell_type": "code",
   "execution_count": 68,
   "id": "680461eb-8df7-4dac-a1c1-3a02d281d765",
   "metadata": {},
   "outputs": [
    {
     "name": "stdout",
     "output_type": "stream",
     "text": [
      "Strand type: template\n",
      "Transcribed RNA sequences: ['UACGCAUG', 'AUGCCAAU', 'Invalid sequence']\n"
     ]
    }
   ],
   "source": [
    "#third sequence is invalid \n",
    "dna_samples = [\"ATGCGTAC\", \"TACGGTTA\", \"ATGCXGT\"] \n",
    "#you can put choice template or coding \n",
    "strand_choice = \"template\"\n",
    "\n",
    "transcriber = TranscriptionSystem(dna_samples, strand_choice)\n",
    "rna_output = transcriber.batch_transcribe()\n",
    "\n",
    "print(\"Strand type:\", strand_choice)\n",
    "print(\"Transcribed RNA sequences:\", rna_output)"
   ]
  },
  {
   "cell_type": "code",
   "execution_count": 70,
   "id": "28c2d303-be83-4160-9e33-9282e9265bf6",
   "metadata": {},
   "outputs": [
    {
     "name": "stdout",
     "output_type": "stream",
     "text": [
      "[main 33df0b2] Completed part B question 1\n",
      " 1 file changed, 144 insertions(+), 5 deletions(-)\n"
     ]
    },
    {
     "name": "stderr",
     "output_type": "stream",
     "text": [
      "warning: in the working copy of 'assignment_1.ipynb', LF will be replaced by CRLF the next time Git touches it\n"
     ]
    }
   ],
   "source": [
    "!git commit -am \"Completed part B question 1\""
   ]
  },
  {
   "cell_type": "code",
   "execution_count": 74,
   "id": "8f1309cc-22b3-4bc2-87ac-68483c3b2318",
   "metadata": {},
   "outputs": [
    {
     "name": "stderr",
     "output_type": "stream",
     "text": [
      "warning: in the working copy of 'assignment_1.ipynb', LF will be replaced by CRLF the next time Git touches it\n"
     ]
    }
   ],
   "source": [
    "!git add assignment_1.ipynb"
   ]
  },
  {
   "cell_type": "code",
   "execution_count": 76,
   "id": "c0cdf8f9-d7e0-499c-affe-05c71f3cd9cd",
   "metadata": {},
   "outputs": [
    {
     "name": "stdout",
     "output_type": "stream",
     "text": [
      "[main 21e84ca] minor fix\n",
      " 1 file changed, 33 insertions(+), 17 deletions(-)\n"
     ]
    }
   ],
   "source": [
    "!git commit -m \"minor fix\""
   ]
  },
  {
   "cell_type": "code",
   "execution_count": 78,
   "id": "3df96c63-a1bc-4b04-9103-1560c521ed0d",
   "metadata": {},
   "outputs": [
    {
     "name": "stdout",
     "output_type": "stream",
     "text": [
      "On branch main\n",
      "Untracked files:\n",
      "  (use \"git add <file>...\" to include in what will be committed)\n",
      "\t.ipynb_checkpoints/\n",
      "\n",
      "nothing added to commit but untracked files present (use \"git add\" to track)\n"
     ]
    }
   ],
   "source": [
    "!git status"
   ]
  },
  {
   "cell_type": "code",
   "execution_count": 82,
   "id": "194c64c9-24e9-4e67-84db-ef8c579f8ef9",
   "metadata": {},
   "outputs": [
    {
     "name": "stderr",
     "output_type": "stream",
     "text": [
      "warning: in the working copy of 'assignment_1.ipynb', LF will be replaced by CRLF the next time Git touches it\n",
      "warning: in the working copy of '.ipynb_checkpoints/assignment_1-checkpoint.ipynb', LF will be replaced by CRLF the next time Git touches it\n"
     ]
    }
   ],
   "source": [
    "!git add ."
   ]
  },
  {
   "cell_type": "code",
   "execution_count": 84,
   "id": "e9d6aee5-0c3a-4941-92f2-207365745853",
   "metadata": {},
   "outputs": [
    {
     "name": "stdout",
     "output_type": "stream",
     "text": [
      "[main 6873c33] ending at 20-10-25\n",
      " 2 files changed, 288 insertions(+), 1 deletion(-)\n",
      " create mode 100644 .ipynb_checkpoints/assignment_1-checkpoint.ipynb\n"
     ]
    }
   ],
   "source": [
    "# Stage any modified files\n",
    "!git add .\n",
    "\n",
    "# Commit them with a message\n",
    "!git commit -m \"ending at 20-10-25\"\n"
   ]
  },
  {
   "cell_type": "code",
   "execution_count": 86,
   "id": "dbb4af00-8c3c-4682-a35a-7db0d7ec5274",
   "metadata": {},
   "outputs": [
    {
     "name": "stdout",
     "output_type": "stream",
     "text": [
      "[main 5dafa9c] Ignore Jupyter checkpoint files\n",
      " 1 file changed, 1 insertion(+)\n",
      " create mode 100644 .gitignore\n"
     ]
    }
   ],
   "source": [
    "!echo \".ipynb_checkpoints/\" >> .gitignore\n",
    "!git add .gitignore\n",
    "!git commit -m \"Ignore Jupyter checkpoint files\""
   ]
  },
  {
   "cell_type": "code",
   "execution_count": 88,
   "id": "ac8af1af-d58d-4873-8749-e60144da8a38",
   "metadata": {},
   "outputs": [
    {
     "name": "stdout",
     "output_type": "stream",
     "text": [
      "rm '.ipynb_checkpoints/assignment_1-checkpoint.ipynb'\n",
      "[main cc7f92c] Remove checkpoint files from repo\n",
      " 1 file changed, 207 deletions(-)\n",
      " delete mode 100644 .ipynb_checkpoints/assignment_1-checkpoint.ipynb\n"
     ]
    }
   ],
   "source": [
    "!git rm --cached -r .ipynb_checkpoints\n",
    "!git commit -m \"Remove checkpoint files from repo\""
   ]
  },
  {
   "cell_type": "code",
   "execution_count": 90,
   "id": "a68baa81-eaba-435a-bedb-7dd0e3ba18c5",
   "metadata": {},
   "outputs": [
    {
     "name": "stdout",
     "output_type": "stream",
     "text": [
      "origin\thttps://github.com/ShreyashDhoot/bioinformatics_assignment1.git (fetch)\n",
      "origin\thttps://github.com/ShreyashDhoot/bioinformatics_assignment1.git (push)\n"
     ]
    }
   ],
   "source": [
    "!git remote -v"
   ]
  },
  {
   "cell_type": "code",
   "execution_count": 92,
   "id": "ac39056c-e852-4ad3-bbc6-bb65574b57a1",
   "metadata": {},
   "outputs": [
    {
     "name": "stderr",
     "output_type": "stream",
     "text": [
      "To https://github.com/ShreyashDhoot/bioinformatics_assignment1.git\n",
      " * [new branch]      main -> main\n"
     ]
    }
   ],
   "source": [
    "!git push origin main"
   ]
  },
  {
   "cell_type": "code",
   "execution_count": 25,
   "id": "2e00c5d9-b384-4bf7-934a-65aad60ca238",
   "metadata": {},
   "outputs": [],
   "source": [
    "class DNAReverseComplement:\n",
    "    def __init__(self, sequence):\n",
    "        \"\"\"\n",
    "        Takes a DNA sequence (string) and stores it.\n",
    "        Converts to uppercase to avoid errors.\n",
    "        \"\"\"\n",
    "        self.sequence = sequence.upper()\n",
    "        self.complement_map = {\n",
    "            'A': 'T', 'T': 'A', 'G': 'C', 'C': 'G',\n",
    "            'R': 'Y', 'Y': 'R', 'S': 'S', 'W': 'W',\n",
    "            'K': 'M', 'M': 'K'\n",
    "        }\n",
    "\n",
    "    def check_validity(self):\n",
    "        \"\"\"\n",
    "        Checks if the sequence contains valid bases.\n",
    "        \"\"\"\n",
    "        valid_bases = set(self.complement_map.keys())\n",
    "        for base in self.sequence:\n",
    "            if base not in valid_bases:\n",
    "                raise ValueError(f\"Invalid base found: {base}\")\n",
    "\n",
    "    def get_complement(self):\n",
    "        \"\"\"\n",
    "        Returns the complement strand (not reversed).\n",
    "        \"\"\"\n",
    "        self.check_validity()\n",
    "        comp_seq = \"\"\n",
    "        for base in self.sequence:\n",
    "            comp_seq += self.complement_map[base]\n",
    "        return comp_seq\n",
    "\n",
    "    def get_reverse_complement(self):\n",
    "        \"\"\"\n",
    "        Returns the reverse complement of the DNA sequence.\n",
    "        \"\"\"\n",
    "        complement = self.get_complement()\n",
    "        reverse_complement = complement[::-1]\n",
    "        return reverse_complement\n",
    "\n",
    "    def display_orientations(self):\n",
    "        \"\"\"\n",
    "        Prints both 5'-3' and 3'-5' orientations.\n",
    "        \"\"\"\n",
    "        print(\"Original (5' → 3'): \", self.sequence)\n",
    "        print(\"Reverse Complement (3' → 5'): \", self.get_reverse_complement())"
   ]
  },
  {
   "cell_type": "code",
   "execution_count": 27,
   "id": "4695b244-0ac6-48a1-9f0d-acb277afef5e",
   "metadata": {},
   "outputs": [
    {
     "name": "stdout",
     "output_type": "stream",
     "text": [
      "Complement: TACGYRSWMK\n",
      "Reverse Complement: KMWSRYGCAT\n",
      "Original (5' → 3'):  ATGCRYSWKM\n",
      "Reverse Complement (3' → 5'):  KMWSRYGCAT\n"
     ]
    }
   ],
   "source": [
    "dna_seq = DNAReverseComplement(\"ATGCRYSWKM\")\n",
    "print(\"Complement:\", dna_seq.get_complement())\n",
    "print(\"Reverse Complement:\", dna_seq.get_reverse_complement())\n",
    "dna_seq.display_orientations()"
   ]
  },
  {
   "cell_type": "code",
   "execution_count": 7,
   "id": "c93e10cf-12b9-4753-b448-d1acc6479426",
   "metadata": {},
   "outputs": [
    {
     "name": "stdout",
     "output_type": "stream",
     "text": [
      "[main 7b40286] Completed part B question 5\n",
      " 1 file changed, 1 insertion(+)\n"
     ]
    }
   ],
   "source": [
    "!echo \".ipynb_checkpoints/\" >> .gitignore\n",
    "!git add .gitignore\n",
    "!git commit -m \"Completed part B question 5\""
   ]
  },
  {
   "cell_type": "code",
   "execution_count": 11,
   "id": "6603dcca-3ab7-47c3-b3e3-d8f1f08e9efd",
   "metadata": {},
   "outputs": [
    {
     "name": "stdout",
     "output_type": "stream",
     "text": [
      "Collecting Bio\n",
      "  Downloading bio-1.8.1-py3-none-any.whl.metadata (5.7 kB)\n",
      "Collecting biopython>=1.80 (from Bio)\n",
      "  Downloading biopython-1.85-cp312-cp312-win_amd64.whl.metadata (13 kB)\n",
      "Collecting gprofiler-official (from Bio)\n",
      "  Downloading gprofiler_official-1.0.0-py3-none-any.whl.metadata (11 kB)\n",
      "Collecting mygene (from Bio)\n",
      "  Downloading mygene-3.2.2-py2.py3-none-any.whl.metadata (10 kB)\n",
      "Requirement already satisfied: pandas in d:\\anaconda\\lib\\site-packages (from Bio) (2.2.2)\n",
      "Collecting pooch (from Bio)\n",
      "  Downloading pooch-1.8.2-py3-none-any.whl.metadata (10 kB)\n",
      "Requirement already satisfied: requests in d:\\anaconda\\lib\\site-packages (from Bio) (2.32.3)\n",
      "Requirement already satisfied: tqdm in d:\\anaconda\\lib\\site-packages (from Bio) (4.66.5)\n",
      "Requirement already satisfied: numpy in d:\\anaconda\\lib\\site-packages (from biopython>=1.80->Bio) (1.26.4)\n",
      "Collecting biothings-client>=0.2.6 (from mygene->Bio)\n",
      "  Downloading biothings_client-0.4.1-py3-none-any.whl.metadata (10 kB)\n",
      "Requirement already satisfied: python-dateutil>=2.8.2 in d:\\anaconda\\lib\\site-packages (from pandas->Bio) (2.9.0.post0)\n",
      "Requirement already satisfied: pytz>=2020.1 in d:\\anaconda\\lib\\site-packages (from pandas->Bio) (2024.1)\n",
      "Requirement already satisfied: tzdata>=2022.7 in d:\\anaconda\\lib\\site-packages (from pandas->Bio) (2023.3)\n",
      "Requirement already satisfied: platformdirs>=2.5.0 in d:\\anaconda\\lib\\site-packages (from pooch->Bio) (3.10.0)\n",
      "Requirement already satisfied: packaging>=20.0 in d:\\anaconda\\lib\\site-packages (from pooch->Bio) (25.0)\n",
      "Requirement already satisfied: charset-normalizer<4,>=2 in d:\\anaconda\\lib\\site-packages (from requests->Bio) (3.3.2)\n",
      "Requirement already satisfied: idna<4,>=2.5 in d:\\anaconda\\lib\\site-packages (from requests->Bio) (3.7)\n",
      "Requirement already satisfied: urllib3<3,>=1.21.1 in d:\\anaconda\\lib\\site-packages (from requests->Bio) (2.2.3)\n",
      "Requirement already satisfied: certifi>=2017.4.17 in d:\\anaconda\\lib\\site-packages (from requests->Bio) (2024.12.14)\n",
      "Requirement already satisfied: colorama in d:\\anaconda\\lib\\site-packages (from tqdm->Bio) (0.4.6)\n",
      "Requirement already satisfied: httpx>=0.22.0 in d:\\anaconda\\lib\\site-packages (from biothings-client>=0.2.6->mygene->Bio) (0.28.1)\n",
      "Requirement already satisfied: six>=1.5 in d:\\anaconda\\lib\\site-packages (from python-dateutil>=2.8.2->pandas->Bio) (1.16.0)\n",
      "Requirement already satisfied: anyio in d:\\anaconda\\lib\\site-packages (from httpx>=0.22.0->biothings-client>=0.2.6->mygene->Bio) (4.9.0)\n",
      "Requirement already satisfied: httpcore==1.* in d:\\anaconda\\lib\\site-packages (from httpx>=0.22.0->biothings-client>=0.2.6->mygene->Bio) (1.0.2)\n",
      "Requirement already satisfied: h11<0.15,>=0.13 in d:\\anaconda\\lib\\site-packages (from httpcore==1.*->httpx>=0.22.0->biothings-client>=0.2.6->mygene->Bio) (0.14.0)\n",
      "Requirement already satisfied: sniffio>=1.1 in d:\\anaconda\\lib\\site-packages (from anyio->httpx>=0.22.0->biothings-client>=0.2.6->mygene->Bio) (1.3.0)\n",
      "Requirement already satisfied: typing_extensions>=4.5 in d:\\anaconda\\lib\\site-packages (from anyio->httpx>=0.22.0->biothings-client>=0.2.6->mygene->Bio) (4.11.0)\n",
      "Downloading bio-1.8.1-py3-none-any.whl (321 kB)\n",
      "Downloading biopython-1.85-cp312-cp312-win_amd64.whl (2.8 MB)\n",
      "   ---------------------------------------- 0.0/2.8 MB ? eta -:--:--\n",
      "   -------------- ------------------------- 1.0/2.8 MB 6.3 MB/s eta 0:00:01\n",
      "   -------------- ------------------------- 1.0/2.8 MB 6.3 MB/s eta 0:00:01\n",
      "   ----------------------------- ---------- 2.1/2.8 MB 3.4 MB/s eta 0:00:01\n",
      "   ----------------------------- ---------- 2.1/2.8 MB 3.4 MB/s eta 0:00:01\n",
      "   ---------------------------------------- 2.8/2.8 MB 2.7 MB/s eta 0:00:00\n",
      "Downloading gprofiler_official-1.0.0-py3-none-any.whl (9.3 kB)\n",
      "Downloading mygene-3.2.2-py2.py3-none-any.whl (5.4 kB)\n",
      "Downloading pooch-1.8.2-py3-none-any.whl (64 kB)\n",
      "Downloading biothings_client-0.4.1-py3-none-any.whl (46 kB)\n",
      "Installing collected packages: biopython, pooch, gprofiler-official, biothings-client, mygene, Bio\n",
      "Successfully installed Bio-1.8.1 biopython-1.85 biothings-client-0.4.1 gprofiler-official-1.0.0 mygene-3.2.2 pooch-1.8.2\n"
     ]
    }
   ],
   "source": [
    "!pip install Bio"
   ]
  },
  {
   "cell_type": "code",
   "execution_count": 13,
   "id": "0e9fdb8c-2b8d-4027-9ec7-06f8e8f08216",
   "metadata": {},
   "outputs": [
    {
     "name": "stdout",
     "output_type": "stream",
     "text": [
      "\n",
      "=== Benchmarking for Sequence Length: 100000 ===\n",
      "\n",
      "--- Custom Implementation ---\n",
      "Time Taken: 0.095999s\n",
      "Memory Used: 200082 bytes\n",
      "\n",
      "--- Biopython Implementation ---\n",
      "Time Taken: 0.004039s\n",
      "Memory Used: 100097 bytes\n",
      "\n",
      "--- Comparison ---\n",
      "Speed Improvement: 23.77x faster using Biopython (approx)\n",
      "Memory Difference: 99985 bytes\n"
     ]
    }
   ],
   "source": [
    "import time\n",
    "import random\n",
    "import sys\n",
    "from Bio.Seq import Seq\n",
    "\n",
    "\n",
    "# ==========================\n",
    "# CUSTOM DNA IMPLEMENTATION\n",
    "# ==========================\n",
    "\n",
    "class DNA:\n",
    "    def __init__(self, sequence):\n",
    "        self.sequence = sequence.upper()\n",
    "        self.valid_nucleotides = ['A', 'T', 'G', 'C']\n",
    "        self.validate_sequence()\n",
    "\n",
    "    def validate_sequence(self):\n",
    "        for base in self.sequence:\n",
    "            if base not in self.valid_nucleotides:\n",
    "                raise ValueError(f\"Invalid nucleotide found: {base}\")\n",
    "\n",
    "    def get_length(self):\n",
    "        return len(self.sequence)\n",
    "\n",
    "    def count_nucleotides(self):\n",
    "        counts = {'A': 0, 'T': 0, 'G': 0, 'C': 0}\n",
    "        for base in self.sequence:\n",
    "            counts[base] += 1\n",
    "        return counts\n",
    "\n",
    "    def get_statistics(self):\n",
    "        length = self.get_length()\n",
    "        counts = self.count_nucleotides()\n",
    "        gc_content = 0 if length == 0 else ((counts['G'] + counts['C']) / length) * 100\n",
    "        return {\n",
    "            'Length': length,\n",
    "            'GC_Content(%)': round(gc_content, 2),\n",
    "            'Counts': counts\n",
    "        }\n",
    "\n",
    "\n",
    "class DNAReverseComplement:\n",
    "    def __init__(self, sequence):\n",
    "        self.sequence = sequence.upper()\n",
    "        self.complement_map = {\n",
    "            'A': 'T', 'T': 'A', 'G': 'C', 'C': 'G',\n",
    "            'R': 'Y', 'Y': 'R', 'S': 'S', 'W': 'W',\n",
    "            'K': 'M', 'M': 'K'\n",
    "        }\n",
    "\n",
    "    def check_validity(self):\n",
    "        valid_bases = set(self.complement_map.keys())\n",
    "        for base in self.sequence:\n",
    "            if base not in valid_bases:\n",
    "                raise ValueError(f\"Invalid base found: {base}\")\n",
    "\n",
    "    def get_complement(self):\n",
    "        self.check_validity()\n",
    "        return ''.join(self.complement_map[b] for b in self.sequence)\n",
    "\n",
    "    def get_reverse_complement(self):\n",
    "        return self.get_complement()[::-1]\n",
    "\n",
    "\n",
    "class TranscriptionSystem:\n",
    "    def __init__(self, sequences, strand_type=\"coding\"):\n",
    "        self.sequences = sequences\n",
    "        self.strand_type = strand_type.lower()\n",
    "\n",
    "    def transcribe_one(self, seq):\n",
    "        seq = seq.upper()\n",
    "        if self.strand_type == \"coding\":\n",
    "            return seq.replace('T', 'U')\n",
    "        elif self.strand_type == \"template\":\n",
    "            complement = {'A': 'U', 'T': 'A', 'G': 'C', 'C': 'G'}\n",
    "            return ''.join(complement[b] for b in seq)\n",
    "        else:\n",
    "            raise ValueError(\"Invalid strand type!\")\n",
    "\n",
    "    def batch_transcribe(self):\n",
    "        return [self.transcribe_one(seq) for seq in self.sequences]\n",
    "\n",
    "\n",
    "# ================================\n",
    "# PYTHON LIBRARIES VERSION\n",
    "# ================================\n",
    "\n",
    "class BioDNA:\n",
    "    def __init__(self, sequence):\n",
    "        self.sequence = Seq(sequence.upper())\n",
    "\n",
    "    def get_length(self):\n",
    "        return len(self.sequence)\n",
    "\n",
    "    def get_statistics(self):\n",
    "        counts = {\n",
    "            'A': self.sequence.count('A'),\n",
    "            'T': self.sequence.count('T'),\n",
    "            'G': self.sequence.count('G'),\n",
    "            'C': self.sequence.count('C'),\n",
    "        }\n",
    "        gc_content = 0 if len(self.sequence) == 0 else ((counts['G'] + counts['C']) / len(self.sequence)) * 100\n",
    "        return {\n",
    "            'Length': len(self.sequence),\n",
    "            'GC_Content(%)': round(gc_content, 2),\n",
    "            'Counts': counts\n",
    "        }\n",
    "\n",
    "    def get_reverse_complement(self):\n",
    "        return str(self.sequence.reverse_complement())\n",
    "\n",
    "    def transcribe(self):\n",
    "        return str(self.sequence.transcribe())\n",
    "\n",
    "\n",
    "# ====================================\n",
    "# BENCHMARKING AND COMPARISON MAIN\n",
    "# ====================================\n",
    "\n",
    "def random_dna_sequence(length):\n",
    "    \"\"\"Generate random DNA sequence of given length.\"\"\"\n",
    "    return ''.join(random.choice('ATGC') for _ in range(length))\n",
    "\n",
    "\n",
    "def benchmark(sequence_length=100000):\n",
    "    seq = random_dna_sequence(sequence_length)\n",
    "\n",
    "    print(f\"\\n=== Benchmarking for Sequence Length: {sequence_length} ===\")\n",
    "\n",
    "    # ---------- Custom Class ----------\n",
    "    start_time = time.time()\n",
    "    custom_dna = DNA(seq)\n",
    "    stats_custom = custom_dna.get_statistics()\n",
    "    revcomp_custom = DNAReverseComplement(seq).get_reverse_complement()\n",
    "    trans_custom = TranscriptionSystem([seq]).batch_transcribe()\n",
    "    end_time = time.time()\n",
    "    custom_time = end_time - start_time\n",
    "    custom_memory = sys.getsizeof(custom_dna.sequence) + sys.getsizeof(revcomp_custom)\n",
    "\n",
    "    # ---------- Biopython Class ----------\n",
    "    start_time = time.time()\n",
    "    bio_dna = BioDNA(seq)\n",
    "    stats_bio = bio_dna.get_statistics()\n",
    "    revcomp_bio = bio_dna.get_reverse_complement()\n",
    "    trans_bio = bio_dna.transcribe()\n",
    "    end_time = time.time()\n",
    "    bio_time = end_time - start_time\n",
    "    bio_memory = sys.getsizeof(bio_dna.sequence) + sys.getsizeof(revcomp_bio)\n",
    "\n",
    "    # ---------- Results ----------\n",
    "    print(\"\\n--- Custom Implementation ---\")\n",
    "    print(f\"Time Taken: {custom_time:.6f}s\")\n",
    "    print(f\"Memory Used: {custom_memory} bytes\")\n",
    "\n",
    "    print(\"\\n--- Biopython Implementation ---\")\n",
    "    print(f\"Time Taken: {bio_time:.6f}s\")\n",
    "    print(f\"Memory Used: {bio_memory} bytes\")\n",
    "\n",
    "    print(\"\\n--- Comparison ---\")\n",
    "    print(f\"Speed Improvement: {round(custom_time / bio_time, 2)}x faster using Biopython (approx)\")\n",
    "    print(f\"Memory Difference: {abs(custom_memory - bio_memory)} bytes\")\n",
    "\n",
    "#benchmarking\n",
    "benchmark(100000)"
   ]
  },
  {
   "cell_type": "code",
   "execution_count": 17,
   "id": "8c75a1c2-7e77-42a4-b563-3cb8e9f28c2a",
   "metadata": {},
   "outputs": [
    {
     "name": "stdout",
     "output_type": "stream",
     "text": [
      "[main beb6732] Assignment completed\n",
      " 1 file changed, 1 insertion(+)\n"
     ]
    }
   ],
   "source": [
    "!echo \".ipynb_checkpoints/\" >> .gitignore\n",
    "!git add .gitignore\n",
    "!git commit -m \"Assignment completed\""
   ]
  },
  {
   "cell_type": "code",
   "execution_count": 19,
   "id": "f54e9927-380b-46c4-85de-4a15212f0ea2",
   "metadata": {},
   "outputs": [
    {
     "name": "stderr",
     "output_type": "stream",
     "text": [
      "fatal: pathspec '.ipynb_checkpoints' did not match any files\n"
     ]
    },
    {
     "name": "stdout",
     "output_type": "stream",
     "text": [
      "On branch main\n",
      "Changes not staged for commit:\n",
      "  (use \"git add <file>...\" to update what will be committed)\n",
      "  (use \"git restore <file>...\" to discard changes in working directory)\n",
      "\tmodified:   assignment_1.ipynb\n",
      "\n",
      "Untracked files:\n",
      "  (use \"git add <file>...\" to include in what will be committed)\n",
      "\t.ipynb_checkpoints/\n",
      "\n",
      "no changes added to commit (use \"git add\" and/or \"git commit -a\")\n"
     ]
    }
   ],
   "source": [
    "!git rm --cached -r .ipynb_checkpoints\n",
    "!git commit -m \"Remove checkpoint files from repo\""
   ]
  },
  {
   "cell_type": "code",
   "execution_count": 21,
   "id": "bb3d1afd-b3f3-4fc1-892d-23045e9e547d",
   "metadata": {},
   "outputs": [
    {
     "name": "stdout",
     "output_type": "stream",
     "text": [
      "origin\thttps://github.com/ShreyashDhoot/bioinformatics_assignment1.git (fetch)\n",
      "origin\thttps://github.com/ShreyashDhoot/bioinformatics_assignment1.git (push)\n"
     ]
    }
   ],
   "source": [
    "!git remote -v"
   ]
  },
  {
   "cell_type": "code",
   "execution_count": 23,
   "id": "3d804548-384a-431c-8a0e-c68e002569ec",
   "metadata": {},
   "outputs": [
    {
     "name": "stderr",
     "output_type": "stream",
     "text": [
      "To https://github.com/ShreyashDhoot/bioinformatics_assignment1.git\n",
      "   cc7f92c..beb6732  main -> main\n"
     ]
    }
   ],
   "source": [
    "!git push origin main"
   ]
  },
  {
   "cell_type": "code",
   "execution_count": null,
   "id": "0f74cb77-c4de-4f84-868c-6464aa3435b0",
   "metadata": {},
   "outputs": [],
   "source": []
  }
 ],
 "metadata": {
  "kernelspec": {
   "display_name": "Python [conda env:base] *",
   "language": "python",
   "name": "conda-base-py"
  },
  "language_info": {
   "codemirror_mode": {
    "name": "ipython",
    "version": 3
   },
   "file_extension": ".py",
   "mimetype": "text/x-python",
   "name": "python",
   "nbconvert_exporter": "python",
   "pygments_lexer": "ipython3",
   "version": "3.12.7"
  }
 },
 "nbformat": 4,
 "nbformat_minor": 5
}

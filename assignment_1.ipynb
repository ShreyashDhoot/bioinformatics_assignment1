{
 "cells": [
  {
   "cell_type": "code",
   "execution_count": 6,
   "id": "7ece22f4-ece9-4620-a3fd-bb4013776012",
   "metadata": {},
   "outputs": [
    {
     "name": "stdout",
     "output_type": "stream",
     "text": [
      "[main (root-commit) 71a6479] Initial commit: Created notebook\n",
      " 1 file changed, 166 insertions(+)\n",
      " create mode 100644 assignment_1.ipynb\n"
     ]
    }
   ],
   "source": [
    "!git commit -m \"Initial commit: Created notebook\""
   ]
  },
  {
   "cell_type": "code",
   "execution_count": 8,
   "id": "8ba9b545-e2d6-4e76-9adf-95040d532a9a",
   "metadata": {},
   "outputs": [],
   "source": [
    "class DNA:\n",
    "    def __init__(self, sequence):\n",
    "        \"\"\"\n",
    "        converts the sequence to upper case and check if the sequence is valid \n",
    "        \"\"\"\n",
    "        # convert the sequence to UPPER CASE\n",
    "        self.sequence = sequence.upper()\n",
    "        # valid nucleotides \n",
    "        self.valid_nucleotides = ['A', 'T', 'G', 'C']\n",
    "        self.validate_sequence()\n",
    "\n",
    "    def validate_sequence(self):\n",
    "        \"\"\"\n",
    "        checks the whole sequence if the sequence is not valid prints error message \n",
    "        \"\"\"\n",
    "        for base in self.sequence:\n",
    "            if base not in self.valid_nucleotides:\n",
    "                print(\"Error: Invalid nucleotide found:\", base)\n",
    "                print(\"DNA sequence must only have A, T, G, or C.\")\n",
    "                raise ValueError(\"Invalid DNA sequence!\")  # just stop everything\n",
    "\n",
    "    def get_length(self):\n",
    "        \"\"\"\n",
    "        returns the length of the sequence \n",
    "        \"\"\"\n",
    "        return len(self.sequence)\n",
    "\n",
    "    def count_nucleotides(self):\n",
    "        \"\"\"\n",
    "        counts the number of A,T,G and C in the sequence and returns their count as a dict \n",
    "        \"\"\"\n",
    "        counts = {'A': 0, 'T': 0, 'G': 0, 'C': 0}\n",
    "\n",
    "        for base in self.sequence:\n",
    "            if base == 'A':\n",
    "                counts['A'] += 1\n",
    "            elif base == 'T':\n",
    "                counts['T'] += 1\n",
    "            elif base == 'G':\n",
    "                counts['G'] += 1\n",
    "            elif base == 'C':\n",
    "                counts['C'] += 1\n",
    "\n",
    "        return counts\n",
    "\n",
    "    def get_statistics(self):\n",
    "        \"\"\"\n",
    "        returns length and count \n",
    "        \"\"\"\n",
    "        length = self.get_length()\n",
    "        counts = self.count_nucleotides()\n",
    "\n",
    "        if length == 0:\n",
    "            gc_content = 0\n",
    "        else:\n",
    "            gc_content = ((counts['G'] + counts['C']) / length) * 100\n",
    "\n",
    "        stats = {\n",
    "            'Length': length,\n",
    "            'GC_Content(%)': round(gc_content, 2),\n",
    "            'Counts': counts\n",
    "        }\n",
    "\n",
    "        return stats\n",
    "\n",
    "    def __str__(self):\n",
    "        \"\"\"\n",
    "        returns string \n",
    "        \"\"\"\n",
    "        return \"DNA Sequence: \" + self.sequence + \" (Length: \" + str(self.get_length()) + \")\"\n"
   ]
  },
  {
   "cell_type": "code",
   "execution_count": 10,
   "id": "67a55617-fcd7-4958-ae94-f121607f1342",
   "metadata": {},
   "outputs": [
    {
     "name": "stdout",
     "output_type": "stream",
     "text": [
      "=== Test 1: Valid sequence ===\n",
      "DNA Sequence: ATGCGTTA (Length: 8)\n",
      "Length: 8\n",
      "Counts: {'A': 2, 'T': 3, 'G': 2, 'C': 1}\n",
      "Statistics: {'Length': 8, 'GC_Content(%)': 37.5, 'Counts': {'A': 2, 'T': 3, 'G': 2, 'C': 1}}\n",
      "\n",
      "=== Test 2: Lowercase sequence ===\n",
      "DNA Sequence: ATGCCGAT (Length: 8)\n",
      "Statistics: {'Length': 8, 'GC_Content(%)': 50.0, 'Counts': {'A': 2, 'T': 2, 'G': 2, 'C': 2}}\n",
      "\n",
      "=== Test 3: Invalid character ===\n",
      "Error: Invalid nucleotide found: B\n",
      "DNA sequence must only have A, T, G, or C.\n",
      "Caught error: Invalid DNA sequence!\n"
     ]
    }
   ],
   "source": [
    "# Testing the DNA class (basic style)\n",
    "\n",
    "try:\n",
    "    print(\"=== Test 1: Valid sequence ===\")\n",
    "    dna1 = DNA(\"ATGCGTTA\")\n",
    "    print(dna1)\n",
    "    print(\"Length:\", dna1.get_length())\n",
    "    print(\"Counts:\", dna1.count_nucleotides())\n",
    "    print(\"Statistics:\", dna1.get_statistics())\n",
    "\n",
    "    print(\"\\n=== Test 2: Lowercase sequence ===\")\n",
    "    dna2 = DNA(\"atgccgat\")\n",
    "    print(dna2)\n",
    "    print(\"Statistics:\", dna2.get_statistics())\n",
    "\n",
    "    print(\"\\n=== Test 3: Invalid character ===\")\n",
    "    dna3 = DNA(\"ATGBXTA\")  # should trigger ValueError\n",
    "except ValueError as e:\n",
    "    print(\"Caught error:\", e)"
   ]
  },
  {
   "cell_type": "code",
   "execution_count": 14,
   "id": "9242f0a7-14aa-4ff2-9d0f-c6bdba5863c7",
   "metadata": {},
   "outputs": [
    {
     "name": "stdout",
     "output_type": "stream",
     "text": [
      "[main a289dc1] Completed part A question 1\n",
      " 1 file changed, 89 insertions(+), 72 deletions(-)\n"
     ]
    },
    {
     "name": "stderr",
     "output_type": "stream",
     "text": [
      "warning: in the working copy of 'assignment_1.ipynb', LF will be replaced by CRLF the next time Git touches it\n"
     ]
    }
   ],
   "source": [
    "!git commit -am \"Completed part A question 1\""
   ]
  },
  {
   "cell_type": "code",
   "execution_count": 52,
   "id": "9b47d4cb-1e47-4759-a4b0-10e9aafe7dcf",
   "metadata": {},
   "outputs": [],
   "source": [
    "\n",
    "def count_individual_nucleotides(dna_obj):\n",
    "    \"\"\"\n",
    "    Use the count_nucleotides() method of DNA class\n",
    "    and return the dictionary of counts.\n",
    "    \"\"\"\n",
    "    counts = dna_obj.count_nucleotides()\n",
    "    return counts\n",
    "\n",
    "\n",
    "def calculate_nucleotide_frequencies(dna_obj):\n",
    "    \"\"\"\n",
    "    Calculate of each nucleotide in the sequence.\n",
    "    dna_obj - object \n",
    "    freq - contains freq of all necleotides \n",
    "    \"\"\"\n",
    "    counts = dna_obj.count_nucleotides()\n",
    "    length = dna_obj.get_length()\n",
    "\n",
    "    if length == 0:\n",
    "        return {\"A\": 0, \"T\": 0, \"G\": 0, \"C\": 0}\n",
    "\n",
    "    freq = {}\n",
    "    for base in counts:\n",
    "        freq[base] = round((counts[base] / length) * 100, 2)\n",
    "    return freq\n",
    "\n",
    "\n",
    "def generate_analysis_report(dna_obj):\n",
    "    \"\"\"\n",
    "    make report using all the parameters we calculated\n",
    "    \"\"\"\n",
    "    print(\"=== DNA Nucleotide Analysis Report ===\")\n",
    "    print(\"Sequence:\", dna_obj.sequence)\n",
    "    print(\"Length:\", dna_obj.get_length())\n",
    "\n",
    "    counts = count_individual_nucleotides(dna_obj)\n",
    "    freqs = calculate_nucleotide_frequencies(dna_obj)\n",
    "\n",
    "    print(\"\\nNucleotide Counts:\")\n",
    "    for base in counts:\n",
    "        print(base, \":\", counts[base])\n",
    "\n",
    "    print(\"\\nNucleotide Frequencies (%):\")\n",
    "    for base in freqs:\n",
    "        print(base, \":\", freqs[base])\n",
    "        \n",
    "    print(\"xxxxxxxxxxxxxxxxxxxxxxxxxxxxxxxxxxxxxxxxxxxxxxxxxx\")\n",
    "\n",
    "\n",
    "def compare_two_sequences(dna1, dna2):\n",
    "    \"\"\"\n",
    "    Compare two DNA sequences by their nucleotide composition.\n",
    "    \"\"\"\n",
    "    counts1 = dna1.count_nucleotides()\n",
    "    counts2 = dna2.count_nucleotides()\n",
    "\n",
    "    print(\"=== Comparison of Two DNA Sequences ===\")\n",
    "    print(\"Seq1:\", dna1.sequence)\n",
    "    print(\"Seq2:\", dna2.sequence)\n",
    "    print(\"*******************************************\")\n",
    "\n",
    "    for base in ['A', 'T', 'G', 'C']:\n",
    "        if counts1[base] > counts2[base]:\n",
    "            print(f\"Seq1 has more {base} ({counts1[base]} vs {counts2[base]})\")\n",
    "        elif counts1[base] < counts2[base]:\n",
    "            print(f\"Seq2 has more {base} ({counts2[base]} vs {counts1[base]})\")\n",
    "        else:\n",
    "            print(f\"Both have equal {base} ({counts1[base]})\")\n",
    "    print(\"xxxxxxxxxxxxxxxxxxxxxxxxxxxxxxxxxxxxxxxxxxxxxxxxx\")\n"
   ]
  },
  {
   "cell_type": "code",
   "execution_count": 54,
   "id": "2c38a177-c534-46a7-b05d-c035f5bd415c",
   "metadata": {},
   "outputs": [
    {
     "name": "stdout",
     "output_type": "stream",
     "text": [
      "Single sequence analysis\n",
      "=== DNA Nucleotide Analysis Report ===\n",
      "Sequence: ATGCGTTA\n",
      "Length: 8\n",
      "\n",
      "Nucleotide Counts:\n",
      "A : 2\n",
      "T : 3\n",
      "G : 2\n",
      "C : 1\n",
      "\n",
      "Nucleotide Frequencies (%):\n",
      "A : 25.0\n",
      "T : 37.5\n",
      "G : 25.0\n",
      "C : 12.5\n",
      "xxxxxxxxxxxxxxxxxxxxxxxxxxxxxxxxxxxxxxxxxxxxxxxxxx\n",
      "Compare two sequences\n",
      "=== Comparison of Two DNA Sequences ===\n",
      "Seq1: ATGCGTTA\n",
      "Seq2: AATTGGCC\n",
      "*******************************************\n",
      "Both have equal A (2)\n",
      "Seq1 has more T (3 vs 2)\n",
      "Both have equal G (2)\n",
      "Seq2 has more C (2 vs 1)\n",
      "xxxxxxxxxxxxxxxxxxxxxxxxxxxxxxxxxxxxxxxxxxxxxxxxx\n"
     ]
    }
   ],
   "source": [
    "print(\"Single sequence analysis\")\n",
    "dna1 = DNA(\"ATGCGTTA\")\n",
    "generate_analysis_report(dna1)\n",
    "\n",
    "print(\"Compare two sequences\")\n",
    "dna2 = DNA(\"AATTGGCC\")\n",
    "compare_two_sequences(dna1, dna2)"
   ]
  },
  {
   "cell_type": "code",
   "execution_count": 50,
   "id": "260903f3-6bfd-475b-a03a-3dc9bd94c8b5",
   "metadata": {},
   "outputs": [
    {
     "name": "stdout",
     "output_type": "stream",
     "text": [
      "[main 41cc2bc] Completed part A question 2\n",
      " 1 file changed, 160 insertions(+), 2 deletions(-)\n"
     ]
    },
    {
     "name": "stderr",
     "output_type": "stream",
     "text": [
      "warning: in the working copy of 'assignment_1.ipynb', LF will be replaced by CRLF the next time Git touches it\n"
     ]
    }
   ],
   "source": [
    "!git commit -am \"Completed part A question 2\""
   ]
  },
  {
   "cell_type": "code",
   "execution_count": 58,
   "id": "35fcce2f-3865-4a9e-8fdf-5c531f1edfdd",
   "metadata": {},
   "outputs": [],
   "source": [
    "\n",
    "def convert_to_upper(sequence):\n",
    "    \"\"\"Convert sequence to uppercase \"\"\"\n",
    "    seq_upper = \"\"\n",
    "    for base in sequence:\n",
    "        seq_upper += base.upper()\n",
    "    return seq_upper\n",
    "\n",
    "\n",
    "def remove_non_nucleotides(sequence):\n",
    "    \"\"\"Remove any character that is not A, T, G, or C.\"\"\"\n",
    "    valid = ['A', 'T', 'G', 'C','a','t','g','c']\n",
    "    clean_seq = \"\"\n",
    "    for base in sequence:\n",
    "        base = base.upper()\n",
    "        if base in valid:\n",
    "            clean_seq += base\n",
    "    return clean_seq\n",
    "\n",
    "\n",
    "def split_into_codons(sequence):\n",
    "    \"\"\"Split the sequence into groups of 3 bases (codons).\"\"\"\n",
    "    codons = []\n",
    "    for i in range(0, len(sequence), 3):\n",
    "        codons.append(sequence[i:i+3])\n",
    "    return codons\n",
    "\n",
    "\n",
    "def merge_fragments(fragments):\n",
    "    \"\"\"Join multiple DNA fragments into one long sequence.\"\"\"\n",
    "    merged = \"\"\n",
    "    for frag in fragments:\n",
    "        merged += frag\n",
    "    return merged\n"
   ]
  },
  {
   "cell_type": "code",
   "execution_count": 60,
   "id": "f33b4862-8aaf-4c77-9914-463593a770ae",
   "metadata": {},
   "outputs": [
    {
     "name": "stdout",
     "output_type": "stream",
     "text": [
      "Original sequence: atGc gT@aC12\n",
      "Uppercase: ATGC GT@AC12\n",
      "After removing invalid: ATGCGTAC\n",
      "Codons: ['ATG', 'CGT', 'AC']\n",
      "Merged fragments: ATGCGTACGGA\n"
     ]
    }
   ],
   "source": [
    "raw_seq = \"atGc gT@aC12\"\n",
    "print(\"Original sequence:\", raw_seq)\n",
    "#converting to upper case \n",
    "upper_seq = convert_to_upper(raw_seq)\n",
    "print(\"Uppercase:\", upper_seq)\n",
    "#removing non nucleotides\n",
    "#can use convert_to_upper and remove_non_nucletides indifferent of order\n",
    "clean_seq = remove_non_nucleotides(upper_seq)\n",
    "print(\"After removing invalid:\", clean_seq)\n",
    "#split into codons \n",
    "codons = split_into_codons(clean_seq)\n",
    "print(\"Codons:\", codons)\n",
    "#merging fragmnets \n",
    "merged = merge_fragments([\"ATGCG\", \"TAC\", \"GGA\"])\n",
    "print(\"Merged fragments:\", merged)\n"
   ]
  },
  {
   "cell_type": "code",
   "execution_count": 62,
   "id": "a8101b63-eb40-4955-b0d2-685a372074a3",
   "metadata": {},
   "outputs": [
    {
     "name": "stdout",
     "output_type": "stream",
     "text": [
      "[main a1376db] Completed part A question 3\n",
      " 1 file changed, 89 insertions(+), 10 deletions(-)\n"
     ]
    },
    {
     "name": "stderr",
     "output_type": "stream",
     "text": [
      "warning: in the working copy of 'assignment_1.ipynb', LF will be replaced by CRLF the next time Git touches it\n"
     ]
    }
   ],
   "source": [
    "!git commit -am \"Completed part A question 3\""
   ]
  },
  {
   "cell_type": "code",
   "execution_count": 66,
   "id": "33e61ecb-c052-42ce-9a35-7d659d3c2ac5",
   "metadata": {},
   "outputs": [],
   "source": [
    "class TranscriptionSystem:\n",
    "    def __init__(self, sequences, strand_type=\"coding\"):\n",
    "        \"\"\"\n",
    "        Initialize with list of DNA sequences and strand type (coding/template).\n",
    "        \"\"\"\n",
    "        self.sequences = sequences\n",
    "        self.strand_type = strand_type.lower()\n",
    "        self.valid_bases = ['A', 'T', 'G', 'C']\n",
    "\n",
    "    def validate_sequence(self, seq):\n",
    "        \"\"\"Check if the DNA sequence has only A, T, G, C.\"\"\"\n",
    "        for base in seq:\n",
    "            if base.upper() not in self.valid_bases:\n",
    "                return False\n",
    "        return True\n",
    "\n",
    "    def transcribe_one(self, seq):\n",
    "        \"\"\"Transcribe a single sequence depending on strand type.\"\"\"\n",
    "        seq = seq.upper()\n",
    "\n",
    "        if not self.validate_sequence(seq):\n",
    "            return \"Invalid sequence\"\n",
    "\n",
    "        # If strand is coding: replace T -> U\n",
    "        if self.strand_type == \"coding\":\n",
    "            return seq.replace('T', 'U')\n",
    "\n",
    "        # If strand is template: use complement rule\n",
    "        elif self.strand_type == \"template\":\n",
    "            complement = {'A': 'U', 'T': 'A', 'G': 'C', 'C': 'G'}\n",
    "            rna = \"\"\n",
    "            for base in seq:\n",
    "                rna += complement[base]\n",
    "            return rna\n",
    "\n",
    "        else:\n",
    "            return \"Invalid strand type! Use 'coding' or 'template'.\"\n",
    "\n",
    "    def batch_transcribe(self):\n",
    "        \"\"\"Transcribe all sequences in the list.\"\"\"\n",
    "        rna_results = []\n",
    "        for seq in self.sequences:\n",
    "            rna = self.transcribe_one(seq)\n",
    "            rna_results.append(rna)\n",
    "        return rna_results"
   ]
  },
  {
   "cell_type": "code",
   "execution_count": 68,
   "id": "680461eb-8df7-4dac-a1c1-3a02d281d765",
   "metadata": {},
   "outputs": [
    {
     "name": "stdout",
     "output_type": "stream",
     "text": [
      "Strand type: template\n",
      "Transcribed RNA sequences: ['UACGCAUG', 'AUGCCAAU', 'Invalid sequence']\n"
     ]
    }
   ],
   "source": [
    "#third sequence is invalid \n",
    "dna_samples = [\"ATGCGTAC\", \"TACGGTTA\", \"ATGCXGT\"] \n",
    "#you can put choice template or coding \n",
    "strand_choice = \"template\"\n",
    "\n",
    "transcriber = TranscriptionSystem(dna_samples, strand_choice)\n",
    "rna_output = transcriber.batch_transcribe()\n",
    "\n",
    "print(\"Strand type:\", strand_choice)\n",
    "print(\"Transcribed RNA sequences:\", rna_output)"
   ]
  },
  {
   "cell_type": "code",
   "execution_count": 70,
   "id": "28c2d303-be83-4160-9e33-9282e9265bf6",
   "metadata": {},
   "outputs": [
    {
     "name": "stdout",
     "output_type": "stream",
     "text": [
      "[main 33df0b2] Completed part B question 1\n",
      " 1 file changed, 144 insertions(+), 5 deletions(-)\n"
     ]
    },
    {
     "name": "stderr",
     "output_type": "stream",
     "text": [
      "warning: in the working copy of 'assignment_1.ipynb', LF will be replaced by CRLF the next time Git touches it\n"
     ]
    }
   ],
   "source": [
    "!git commit -am \"Completed part B question 1\""
   ]
  },
  {
   "cell_type": "code",
   "execution_count": null,
   "id": "8f1309cc-22b3-4bc2-87ac-68483c3b2318",
   "metadata": {},
   "outputs": [],
   "source": []
  }
 ],
 "metadata": {
  "kernelspec": {
   "display_name": "Python [conda env:base] *",
   "language": "python",
   "name": "conda-base-py"
  },
  "language_info": {
   "codemirror_mode": {
    "name": "ipython",
    "version": 3
   },
   "file_extension": ".py",
   "mimetype": "text/x-python",
   "name": "python",
   "nbconvert_exporter": "python",
   "pygments_lexer": "ipython3",
   "version": "3.12.7"
  }
 },
 "nbformat": 4,
 "nbformat_minor": 5
}

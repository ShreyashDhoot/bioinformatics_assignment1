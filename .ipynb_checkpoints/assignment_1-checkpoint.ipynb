{
 "cells": [
  {
   "cell_type": "code",
   "execution_count": 6,
   "id": "7ece22f4-ece9-4620-a3fd-bb4013776012",
   "metadata": {},
   "outputs": [
    {
     "name": "stdout",
     "output_type": "stream",
     "text": [
      "[main (root-commit) 71a6479] Initial commit: Created notebook\n",
      " 1 file changed, 166 insertions(+)\n",
      " create mode 100644 assignment_1.ipynb\n"
     ]
    }
   ],
   "source": [
    "!git commit -m \"Initial commit: Created notebook\""
   ]
  },
  {
   "cell_type": "code",
   "execution_count": 8,
   "id": "8ba9b545-e2d6-4e76-9adf-95040d532a9a",
   "metadata": {},
   "outputs": [],
   "source": [
    "class DNA:\n",
    "    def __init__(self, sequence):\n",
    "        \"\"\"\n",
    "        converts the sequence to upper case and check if the sequence is valid \n",
    "        \"\"\"\n",
    "        # convert the sequence to UPPER CASE\n",
    "        self.sequence = sequence.upper()\n",
    "        # valid nucleotides \n",
    "        self.valid_nucleotides = ['A', 'T', 'G', 'C']\n",
    "        self.validate_sequence()\n",
    "\n",
    "    def validate_sequence(self):\n",
    "        \"\"\"\n",
    "        checks the whole sequence if the sequence is not valid prints error message \n",
    "        \"\"\"\n",
    "        for base in self.sequence:\n",
    "            if base not in self.valid_nucleotides:\n",
    "                print(\"Error: Invalid nucleotide found:\", base)\n",
    "                print(\"DNA sequence must only have A, T, G, or C.\")\n",
    "                raise ValueError(\"Invalid DNA sequence!\")  # just stop everything\n",
    "\n",
    "    def get_length(self):\n",
    "        \"\"\"\n",
    "        returns the length of the sequence \n",
    "        \"\"\"\n",
    "        return len(self.sequence)\n",
    "\n",
    "    def count_nucleotides(self):\n",
    "        \"\"\"\n",
    "        counts the number of A,T,G and C in the sequence and returns their count as a dict \n",
    "        \"\"\"\n",
    "        counts = {'A': 0, 'T': 0, 'G': 0, 'C': 0}\n",
    "\n",
    "        for base in self.sequence:\n",
    "            if base == 'A':\n",
    "                counts['A'] += 1\n",
    "            elif base == 'T':\n",
    "                counts['T'] += 1\n",
    "            elif base == 'G':\n",
    "                counts['G'] += 1\n",
    "            elif base == 'C':\n",
    "                counts['C'] += 1\n",
    "\n",
    "        return counts\n",
    "\n",
    "    def get_statistics(self):\n",
    "        \"\"\"\n",
    "        returns length and count \n",
    "        \"\"\"\n",
    "        length = self.get_length()\n",
    "        counts = self.count_nucleotides()\n",
    "\n",
    "        if length == 0:\n",
    "            gc_content = 0\n",
    "        else:\n",
    "            gc_content = ((counts['G'] + counts['C']) / length) * 100\n",
    "\n",
    "        stats = {\n",
    "            'Length': length,\n",
    "            'GC_Content(%)': round(gc_content, 2),\n",
    "            'Counts': counts\n",
    "        }\n",
    "\n",
    "        return stats\n",
    "\n",
    "    def __str__(self):\n",
    "        \"\"\"\n",
    "        returns string \n",
    "        \"\"\"\n",
    "        return \"DNA Sequence: \" + self.sequence + \" (Length: \" + str(self.get_length()) + \")\"\n"
   ]
  },
  {
   "cell_type": "code",
   "execution_count": 10,
   "id": "67a55617-fcd7-4958-ae94-f121607f1342",
   "metadata": {},
   "outputs": [
    {
     "name": "stdout",
     "output_type": "stream",
     "text": [
      "=== Test 1: Valid sequence ===\n",
      "DNA Sequence: ATGCGTTA (Length: 8)\n",
      "Length: 8\n",
      "Counts: {'A': 2, 'T': 3, 'G': 2, 'C': 1}\n",
      "Statistics: {'Length': 8, 'GC_Content(%)': 37.5, 'Counts': {'A': 2, 'T': 3, 'G': 2, 'C': 1}}\n",
      "\n",
      "=== Test 2: Lowercase sequence ===\n",
      "DNA Sequence: ATGCCGAT (Length: 8)\n",
      "Statistics: {'Length': 8, 'GC_Content(%)': 50.0, 'Counts': {'A': 2, 'T': 2, 'G': 2, 'C': 2}}\n",
      "\n",
      "=== Test 3: Invalid character ===\n",
      "Error: Invalid nucleotide found: B\n",
      "DNA sequence must only have A, T, G, or C.\n",
      "Caught error: Invalid DNA sequence!\n"
     ]
    }
   ],
   "source": [
    "# Testing the DNA class (basic style)\n",
    "\n",
    "try:\n",
    "    print(\"=== Test 1: Valid sequence ===\")\n",
    "    dna1 = DNA(\"ATGCGTTA\")\n",
    "    print(dna1)\n",
    "    print(\"Length:\", dna1.get_length())\n",
    "    print(\"Counts:\", dna1.count_nucleotides())\n",
    "    print(\"Statistics:\", dna1.get_statistics())\n",
    "\n",
    "    print(\"\\n=== Test 2: Lowercase sequence ===\")\n",
    "    dna2 = DNA(\"atgccgat\")\n",
    "    print(dna2)\n",
    "    print(\"Statistics:\", dna2.get_statistics())\n",
    "\n",
    "    print(\"\\n=== Test 3: Invalid character ===\")\n",
    "    dna3 = DNA(\"ATGBXTA\")  # should trigger ValueError\n",
    "except ValueError as e:\n",
    "    print(\"Caught error:\", e)"
   ]
  },
  {
   "cell_type": "code",
   "execution_count": 14,
   "id": "9242f0a7-14aa-4ff2-9d0f-c6bdba5863c7",
   "metadata": {},
   "outputs": [
    {
     "name": "stdout",
     "output_type": "stream",
     "text": [
      "[main a289dc1] Completed part A question 1\n",
      " 1 file changed, 89 insertions(+), 72 deletions(-)\n"
     ]
    },
    {
     "name": "stderr",
     "output_type": "stream",
     "text": [
      "warning: in the working copy of 'assignment_1.ipynb', LF will be replaced by CRLF the next time Git touches it\n"
     ]
    }
   ],
   "source": [
    "!git commit -am \"Completed part A question 1\""
   ]
  },
  {
   "cell_type": "code",
   "execution_count": null,
   "id": "9b47d4cb-1e47-4759-a4b0-10e9aafe7dcf",
   "metadata": {},
   "outputs": [],
   "source": []
  }
 ],
 "metadata": {
  "kernelspec": {
   "display_name": "Python [conda env:base] *",
   "language": "python",
   "name": "conda-base-py"
  },
  "language_info": {
   "codemirror_mode": {
    "name": "ipython",
    "version": 3
   },
   "file_extension": ".py",
   "mimetype": "text/x-python",
   "name": "python",
   "nbconvert_exporter": "python",
   "pygments_lexer": "ipython3",
   "version": "3.12.7"
  }
 },
 "nbformat": 4,
 "nbformat_minor": 5
}
